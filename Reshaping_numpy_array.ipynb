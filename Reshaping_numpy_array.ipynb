{
 "cells": [
  {
   "cell_type": "code",
   "execution_count": 2,
   "id": "133645d6",
   "metadata": {},
   "outputs": [],
   "source": [
    "import numpy as np"
   ]
  },
  {
   "cell_type": "code",
   "execution_count": 4,
   "id": "cb0f415f",
   "metadata": {},
   "outputs": [],
   "source": [
    "arr1=np.array([1,2,3,4,5])\n",
    "arr2=np.array([6,7,8,9,10])"
   ]
  },
  {
   "cell_type": "code",
   "execution_count": 5,
   "id": "3df7d4c7",
   "metadata": {},
   "outputs": [],
   "source": [
    "arr3=np.arange(6).reshape(3,2)\n",
    "arr4=np.arange(6,12).reshape(2,3)\n"
   ]
  },
  {
   "cell_type": "code",
   "execution_count": 6,
   "id": "68cfa7a5",
   "metadata": {},
   "outputs": [
    {
     "name": "stdout",
     "output_type": "stream",
     "text": [
      "[[0 1]\n",
      " [2 3]\n",
      " [4 5]]\n"
     ]
    }
   ],
   "source": [
    "print(arr3)"
   ]
  },
  {
   "cell_type": "code",
   "execution_count": 7,
   "id": "38d8e889",
   "metadata": {},
   "outputs": [
    {
     "name": "stdout",
     "output_type": "stream",
     "text": [
      "[[ 6  7  8]\n",
      " [ 9 10 11]]\n"
     ]
    }
   ],
   "source": [
    "print(arr4)"
   ]
  },
  {
   "cell_type": "code",
   "execution_count": 12,
   "id": "f858d7ca",
   "metadata": {},
   "outputs": [
    {
     "data": {
      "text/plain": [
       "array([ 6,  7,  8,  9, 10, 11])"
      ]
     },
     "execution_count": 12,
     "metadata": {},
     "output_type": "execute_result"
    }
   ],
   "source": [
    "arr4.ravel() #it coverts n-d arrays into 1-d array\n"
   ]
  },
  {
   "cell_type": "code",
   "execution_count": 11,
   "id": "a1b64e10",
   "metadata": {},
   "outputs": [
    {
     "data": {
      "text/plain": [
       "array([0, 1, 2, 3, 4, 5])"
      ]
     },
     "execution_count": 11,
     "metadata": {},
     "output_type": "execute_result"
    }
   ],
   "source": [
    "arr3.ravel()"
   ]
  },
  {
   "cell_type": "code",
   "execution_count": 14,
   "id": "9129d5d6",
   "metadata": {},
   "outputs": [
    {
     "data": {
      "text/plain": [
       "array([[0, 1],\n",
       "       [2, 3],\n",
       "       [4, 5]])"
      ]
     },
     "execution_count": 14,
     "metadata": {},
     "output_type": "execute_result"
    }
   ],
   "source": [
    "arr3"
   ]
  },
  {
   "cell_type": "code",
   "execution_count": 21,
   "id": "2f38ac73",
   "metadata": {},
   "outputs": [
    {
     "name": "stdout",
     "output_type": "stream",
     "text": [
      "[[0 2 4]\n",
      " [1 3 5]]\n"
     ]
    }
   ],
   "source": [
    "arr5=arr3.transpose()\n",
    "print(arr5)#convert row to column and column to row that is called transpose of matrix"
   ]
  },
  {
   "cell_type": "code",
   "execution_count": 22,
   "id": "7fcb9bac",
   "metadata": {},
   "outputs": [
    {
     "data": {
      "text/plain": [
       "array([[0, 2, 4],\n",
       "       [1, 3, 5]])"
      ]
     },
     "execution_count": 22,
     "metadata": {},
     "output_type": "execute_result"
    }
   ],
   "source": [
    "arr5"
   ]
  },
  {
   "cell_type": "code",
   "execution_count": 24,
   "id": "59a8fcf1",
   "metadata": {},
   "outputs": [
    {
     "data": {
      "text/plain": [
       "array([[ 6,  7,  8,  0,  2,  4],\n",
       "       [ 9, 10, 11,  1,  3,  5]])"
      ]
     },
     "execution_count": 24,
     "metadata": {},
     "output_type": "execute_result"
    }
   ],
   "source": [
    "np.hstack((arr4,arr5)) #it takes a tuble of arrays as input and hstack ,stack the arrys horizontaly\n",
    "                       #rows of the arrays must be same for horizontal stacking"
   ]
  },
  {
   "cell_type": "code",
   "execution_count": 27,
   "id": "34c64a0b",
   "metadata": {},
   "outputs": [
    {
     "data": {
      "text/plain": [
       "array([[0, 1],\n",
       "       [2, 3],\n",
       "       [4, 5]])"
      ]
     },
     "execution_count": 27,
     "metadata": {},
     "output_type": "execute_result"
    }
   ],
   "source": [
    "arr3"
   ]
  },
  {
   "cell_type": "code",
   "execution_count": 29,
   "id": "bad9b870",
   "metadata": {},
   "outputs": [
    {
     "data": {
      "text/plain": [
       "array([[12, 13],\n",
       "       [14, 15],\n",
       "       [16, 17]])"
      ]
     },
     "execution_count": 29,
     "metadata": {},
     "output_type": "execute_result"
    }
   ],
   "source": [
    "arr6=np.arange(12,18).reshape(3,2)\n",
    "arr6"
   ]
  },
  {
   "cell_type": "code",
   "execution_count": 31,
   "id": "d148821a",
   "metadata": {},
   "outputs": [
    {
     "name": "stdout",
     "output_type": "stream",
     "text": [
      "[[ 0  1]\n",
      " [ 2  3]\n",
      " [ 4  5]\n",
      " [12 13]\n",
      " [14 15]\n",
      " [16 17]]\n"
     ]
    }
   ],
   "source": [
    "#column must be sam efor vertival satcking\n",
    "arr7=np.vstack((arr3,arr6)) #mean same column or row element join and for a big column or row on same position\n",
    "print(arr7)"
   ]
  },
  {
   "cell_type": "code",
   "execution_count": 38,
   "id": "87894941",
   "metadata": {},
   "outputs": [
    {
     "name": "stdout",
     "output_type": "stream",
     "text": [
      "[array([[ 0],\n",
      "       [ 2],\n",
      "       [ 4],\n",
      "       [12],\n",
      "       [14],\n",
      "       [16]]), array([[ 1],\n",
      "       [ 3],\n",
      "       [ 5],\n",
      "       [13],\n",
      "       [15],\n",
      "       [17]])]\n"
     ]
    }
   ],
   "source": [
    "print(np.hsplit(arr7,2)) #for horizontally split the table #it split by column wise mean hrizontally if you think more you will understand\n",
    "#given 2 because it has 2 column or it can devide in two qual parts on horizontal axis"
   ]
  },
  {
   "cell_type": "code",
   "execution_count": 39,
   "id": "3284b0bf",
   "metadata": {},
   "outputs": [
    {
     "data": {
      "text/plain": [
       "array([[0, 1],\n",
       "       [2, 3],\n",
       "       [4, 5]])"
      ]
     },
     "execution_count": 39,
     "metadata": {},
     "output_type": "execute_result"
    }
   ],
   "source": [
    "arr3"
   ]
  },
  {
   "cell_type": "code",
   "execution_count": 40,
   "id": "5042b6a9",
   "metadata": {},
   "outputs": [
    {
     "data": {
      "text/plain": [
       "[array([[0, 1]]), array([[2, 3]]), array([[4, 5]])]"
      ]
     },
     "execution_count": 40,
     "metadata": {},
     "output_type": "execute_result"
    }
   ],
   "source": [
    "np.vsplit(arr3,3) #give 3 because it can split vertically in three eqaul parts"
   ]
  },
  {
   "cell_type": "code",
   "execution_count": null,
   "id": "3c635bc9",
   "metadata": {},
   "outputs": [],
   "source": []
  },
  {
   "cell_type": "code",
   "execution_count": null,
   "id": "8a4b41a8",
   "metadata": {},
   "outputs": [],
   "source": [
    "#day3 end"
   ]
  },
  {
   "cell_type": "code",
   "execution_count": null,
   "id": "df6e57b9",
   "metadata": {},
   "outputs": [],
   "source": []
  }
 ],
 "metadata": {
  "kernelspec": {
   "display_name": "Python 3 (ipykernel)",
   "language": "python",
   "name": "python3"
  },
  "language_info": {
   "codemirror_mode": {
    "name": "ipython",
    "version": 3
   },
   "file_extension": ".py",
   "mimetype": "text/x-python",
   "name": "python",
   "nbconvert_exporter": "python",
   "pygments_lexer": "ipython3",
   "version": "3.11.7"
  }
 },
 "nbformat": 4,
 "nbformat_minor": 5
}

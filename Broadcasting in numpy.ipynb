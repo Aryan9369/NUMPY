{
 "cells": [
  {
   "cell_type": "code",
   "execution_count": 1,
   "id": "687d977d",
   "metadata": {},
   "outputs": [],
   "source": [
    "import numpy as np"
   ]
  },
  {
   "cell_type": "code",
   "execution_count": 3,
   "id": "e1b6f90c",
   "metadata": {},
   "outputs": [],
   "source": [
    "arr1=np.arange(8).reshape(2,4)\n",
    "arr2=np.arange(8,16).reshape(2,4)"
   ]
  },
  {
   "cell_type": "code",
   "execution_count": 4,
   "id": "eaaff618",
   "metadata": {},
   "outputs": [
    {
     "data": {
      "text/plain": [
       "array([[ 8, 10, 12, 14],\n",
       "       [16, 18, 20, 22]])"
      ]
     },
     "execution_count": 4,
     "metadata": {},
     "output_type": "execute_result"
    }
   ],
   "source": [
    "arr1+arr2 #we know similar size array would easily perform addition operation"
   ]
  },
  {
   "cell_type": "code",
   "execution_count": 8,
   "id": "effbf223",
   "metadata": {},
   "outputs": [
    {
     "name": "stdout",
     "output_type": "stream",
     "text": [
      "[[0 1 2 3]\n",
      " [4 5 6 7]]\n",
      "[[ 8  9 10 11]]\n"
     ]
    }
   ],
   "source": [
    "arr3=np.arange(8).reshape(2,4)\n",
    "arr4=np.arange(8,12).reshape(1,4)\n",
    "print(arr3)\n",
    "print(arr4)"
   ]
  },
  {
   "cell_type": "code",
   "execution_count": 9,
   "id": "04f49d13",
   "metadata": {},
   "outputs": [
    {
     "data": {
      "text/plain": [
       "array([[ 8, 10, 12, 14],\n",
       "       [12, 14, 16, 18]])"
      ]
     },
     "execution_count": 9,
     "metadata": {},
     "output_type": "execute_result"
    }
   ],
   "source": [
    "arr3+arr4 #as you can see shape of array is not same even though arthematic operation is possible why?   #because of braodcasting"
   ]
  },
  {
   "cell_type": "code",
   "execution_count": 10,
   "id": "b04c5089",
   "metadata": {},
   "outputs": [],
   "source": [
    "#if you have two differet shape ,addition can be possible between them but it has to fullfill some condition\n",
    "#check the element dimension size is the number equal or one of them is one for each dimension of array then broadcast is possible \n",
    "#if not then broadcast is not possible and it will lead to an error"
   ]
  },
  {
   "cell_type": "code",
   "execution_count": 12,
   "id": "91e0fb90",
   "metadata": {},
   "outputs": [
    {
     "name": "stdout",
     "output_type": "stream",
     "text": [
      "[[0 1 2 3]\n",
      " [4 5 6 7]]\n",
      "[[ 8  9]\n",
      " [10 11]\n",
      " [12 13]\n",
      " [14 15]]\n"
     ]
    }
   ],
   "source": [
    "arr6 = np.arange(8).reshape(2,4)\n",
    "arr7=np.arange(8,16).reshape(4,2)\n",
    "print(arr6)\n",
    "print(arr7)"
   ]
  },
  {
   "cell_type": "code",
   "execution_count": null,
   "id": "032eebd1",
   "metadata": {},
   "outputs": [],
   "source": [
    "arr6+arr7 #this will give error because if you compare dimensions of them they are not full filling the condition\n",
    "#arr6(2,4)\n",
    "#arr(4,2)   #4!=2 or niether one of them is 1 same for other dimesion \n",
    "            #2!="
   ]
  }
 ],
 "metadata": {
  "kernelspec": {
   "display_name": "Python 3 (ipykernel)",
   "language": "python",
   "name": "python3"
  },
  "language_info": {
   "codemirror_mode": {
    "name": "ipython",
    "version": 3
   },
   "file_extension": ".py",
   "mimetype": "text/x-python",
   "name": "python",
   "nbconvert_exporter": "python",
   "pygments_lexer": "ipython3",
   "version": "3.11.7"
  }
 },
 "nbformat": 4,
 "nbformat_minor": 5
}

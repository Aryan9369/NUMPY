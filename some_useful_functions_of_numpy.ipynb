{
 "cells": [
  {
   "cell_type": "code",
   "execution_count": 1,
   "id": "a93eb237",
   "metadata": {},
   "outputs": [],
   "source": [
    "import numpy as np"
   ]
  },
  {
   "cell_type": "code",
   "execution_count": 26,
   "id": "c1a3852f",
   "metadata": {},
   "outputs": [
    {
     "data": {
      "text/plain": [
       "0.9133663418130602"
      ]
     },
     "execution_count": 26,
     "metadata": {},
     "output_type": "execute_result"
    }
   ],
   "source": [
    "np.random.random() #The np.random.random() function in NumPy generates random floats between 0.0 and 1.0 (excluding 1.0)"
   ]
  },
  {
   "cell_type": "code",
   "execution_count": 27,
   "id": "e914486d",
   "metadata": {},
   "outputs": [
    {
     "data": {
      "text/plain": [
       "array([[0.12135616, 0.75022318, 0.16835902],\n",
       "       [0.80427997, 0.89437053, 0.12461273]])"
      ]
     },
     "execution_count": 27,
     "metadata": {},
     "output_type": "execute_result"
    }
   ],
   "source": [
    "np.random.random((2,3))         # Generate a 2x3 array of random numbers"
   ]
  },
  {
   "cell_type": "markdown",
   "id": "6981864d",
   "metadata": {},
   "source": [
    "np.random.random(5)"
   ]
  },
  {
   "cell_type": "code",
   "execution_count": 28,
   "id": "4d8e518c",
   "metadata": {},
   "outputs": [
    {
     "data": {
      "text/plain": [
       "array([0.90569632, 0.52606496, 0.66085817, 0.36611179, 0.20396843])"
      ]
     },
     "execution_count": 28,
     "metadata": {},
     "output_type": "execute_result"
    }
   ],
   "source": [
    "np.random.random(5)          #generate a 1-d array of 5 elements"
   ]
  },
  {
   "cell_type": "code",
   "execution_count": 29,
   "id": "d538afcc",
   "metadata": {},
   "outputs": [
    {
     "data": {
      "text/plain": [
       "array([[0.57422937, 0.13690951],\n",
       "       [0.99884442, 0.25926788],\n",
       "       [0.87251318, 0.66534196]])"
      ]
     },
     "execution_count": 29,
     "metadata": {},
     "output_type": "execute_result"
    }
   ],
   "source": [
    "np.random.random(6).reshape(3,2)"
   ]
  },
  {
   "cell_type": "code",
   "execution_count": 34,
   "id": "9b67f914",
   "metadata": {},
   "outputs": [
    {
     "name": "stdout",
     "output_type": "stream",
     "text": [
      "event is not occurred\n"
     ]
    }
   ],
   "source": [
    "if np.random.random() < 0.3:  # 30% probability\n",
    "    print(\"Event occurred!\")\n",
    "else:\n",
    "    print(\"event is not occurred\")"
   ]
  },
  {
   "cell_type": "code",
   "execution_count": 42,
   "id": "60002be0",
   "metadata": {},
   "outputs": [
    {
     "data": {
      "text/plain": [
       "0.5172978838465893"
      ]
     },
     "execution_count": 42,
     "metadata": {},
     "output_type": "execute_result"
    }
   ],
   "source": [
    "#if you want same number everytime use seed() funtion\n",
    "np.random.seed(23)#you can change parameter number inside seed according to that random number also changes\n",
    "np.random.random()"
   ]
  },
  {
   "cell_type": "code",
   "execution_count": 44,
   "id": "0b989392",
   "metadata": {},
   "outputs": [
    {
     "data": {
      "text/plain": [
       "0.7654597593969069"
      ]
     },
     "execution_count": 44,
     "metadata": {},
     "output_type": "execute_result"
    }
   ],
   "source": [
    "np.random.random()"
   ]
  },
  {
   "cell_type": "code",
   "execution_count": 45,
   "id": "e532b400",
   "metadata": {},
   "outputs": [
    {
     "data": {
      "text/plain": [
       "array([[[2.82395844e-01, 2.21045363e-01, 6.86222085e-01, 1.67139203e-01],\n",
       "        [3.92442466e-01, 6.18052347e-01, 4.11930095e-01, 2.46488120e-03],\n",
       "        [8.84032182e-01, 8.84947538e-01, 3.00409689e-01, 5.89581865e-01]],\n",
       "\n",
       "       [[9.78426916e-01, 8.45093822e-01, 6.50754391e-02, 2.94744465e-01],\n",
       "        [2.87934441e-01, 8.22466339e-01, 6.26183038e-01, 1.10477714e-01],\n",
       "        [5.28811169e-04, 9.42166233e-01, 1.41500758e-01, 4.21596526e-01]]])"
      ]
     },
     "execution_count": 45,
     "metadata": {},
     "output_type": "execute_result"
    }
   ],
   "source": [
    "np.random.random((2,3,4)) #it will give an 3-d array"
   ]
  },
  {
   "cell_type": "code",
   "execution_count": 48,
   "id": "dfb70e60",
   "metadata": {},
   "outputs": [
    {
     "data": {
      "text/plain": [
       "2.4581123110247405"
      ]
     },
     "execution_count": 48,
     "metadata": {},
     "output_type": "execute_result"
    }
   ],
   "source": [
    "#np.random.uniform(low=0.0, high=1.0, size=None)\n",
    "\n",
    "np.random.uniform(1,10) #it will generate the random number between the 1 to 10 everytime ,np.random.uniform(low=0.0, high=10.0)\n",
    "                    "
   ]
  },
  {
   "cell_type": "code",
   "execution_count": 59,
   "id": "96baca64",
   "metadata": {},
   "outputs": [
    {
     "data": {
      "text/plain": [
       "array([9.55739841, 9.01602193, 5.05759322, 8.20701485, 8.27715926,\n",
       "       2.31833348, 0.79055486, 4.65762926, 8.78975808, 1.47503059])"
      ]
     },
     "execution_count": 59,
     "metadata": {},
     "output_type": "execute_result"
    }
   ],
   "source": [
    "np.random.uniform(0,10,10)#np.random.random(0,10,size=10)"
   ]
  },
  {
   "cell_type": "code",
   "execution_count": 67,
   "id": "65792024",
   "metadata": {},
   "outputs": [
    {
     "data": {
      "text/plain": [
       "0"
      ]
     },
     "execution_count": 67,
     "metadata": {},
     "output_type": "execute_result"
    }
   ],
   "source": [
    "#if you want to generate int value instead of float use (randint())\n",
    "#np.random.randint(low, high=None, size=None, dtype=int) none means they are optional\n",
    "\n",
    "np.random.randint(10) #10 is exclusive here 10 is high"
   ]
  },
  {
   "cell_type": "code",
   "execution_count": 78,
   "id": "8fc843f0",
   "metadata": {},
   "outputs": [
    {
     "data": {
      "text/plain": [
       "array([8, 3, 1, 4, 8, 5, 9, 2, 9, 2])"
      ]
     },
     "execution_count": 78,
     "metadata": {},
     "output_type": "execute_result"
    }
   ],
   "source": [
    "arr1=np.random.randint(1, high=10, size=10, dtype=int)\n",
    "arr1"
   ]
  },
  {
   "cell_type": "code",
   "execution_count": 75,
   "id": "1e3c30a0",
   "metadata": {},
   "outputs": [
    {
     "data": {
      "text/plain": [
       "array([[2, 6, 1, 7, 5],\n",
       "       [8, 7, 3, 8, 7]])"
      ]
     },
     "execution_count": 75,
     "metadata": {},
     "output_type": "execute_result"
    }
   ],
   "source": [
    "np.random.randint(1, high=10, size=10, dtype=int).reshape(2,5) #dtype =int32 or int 64"
   ]
  },
  {
   "cell_type": "code",
   "execution_count": 74,
   "id": "5aa66dcf",
   "metadata": {},
   "outputs": [
    {
     "data": {
      "text/plain": [
       "array([[10, 12, 12],\n",
       "       [16, 12, 18]])"
      ]
     },
     "execution_count": 74,
     "metadata": {},
     "output_type": "execute_result"
    }
   ],
   "source": [
    "# 2D array of shape (2, 3) with random ints from 10 to 20\n",
    "np.random.randint(10, 20, size=(2, 3))"
   ]
  },
  {
   "cell_type": "code",
   "execution_count": 82,
   "id": "f9172b06",
   "metadata": {},
   "outputs": [
    {
     "data": {
      "text/plain": [
       "array([8, 3, 1, 4, 8, 5, 9, 2, 9, 2])"
      ]
     },
     "execution_count": 82,
     "metadata": {},
     "output_type": "execute_result"
    }
   ],
   "source": [
    "arr1"
   ]
  },
  {
   "cell_type": "code",
   "execution_count": 80,
   "id": "cb3f491f",
   "metadata": {},
   "outputs": [
    {
     "data": {
      "text/plain": [
       "9"
      ]
     },
     "execution_count": 80,
     "metadata": {},
     "output_type": "execute_result"
    }
   ],
   "source": [
    "np.max(arr1) #arr1.max()"
   ]
  },
  {
   "cell_type": "code",
   "execution_count": 81,
   "id": "55369e82",
   "metadata": {},
   "outputs": [
    {
     "data": {
      "text/plain": [
       "6"
      ]
     },
     "execution_count": 81,
     "metadata": {},
     "output_type": "execute_result"
    }
   ],
   "source": [
    "#if we have to find out index of max number in array\n",
    "np.argmax(arr1)"
   ]
  },
  {
   "cell_type": "code",
   "execution_count": 83,
   "id": "79f9b91a",
   "metadata": {},
   "outputs": [
    {
     "data": {
      "text/plain": [
       "2"
      ]
     },
     "execution_count": 83,
     "metadata": {},
     "output_type": "execute_result"
    }
   ],
   "source": [
    "np.argmin(arr1) #for min values's index"
   ]
  },
  {
   "cell_type": "code",
   "execution_count": 84,
   "id": "e27998c7",
   "metadata": {},
   "outputs": [
    {
     "data": {
      "text/plain": [
       "1"
      ]
     },
     "execution_count": 84,
     "metadata": {},
     "output_type": "execute_result"
    }
   ],
   "source": [
    "arr1[np.argmin(arr1)] #you can print the minimum number"
   ]
  },
  {
   "cell_type": "code",
   "execution_count": 85,
   "id": "33cdca77",
   "metadata": {},
   "outputs": [
    {
     "data": {
      "text/plain": [
       "array([8, 3, 1, 4, 8, 5, 9, 2, 9, 2])"
      ]
     },
     "execution_count": 85,
     "metadata": {},
     "output_type": "execute_result"
    }
   ],
   "source": [
    "arr1"
   ]
  },
  {
   "cell_type": "code",
   "execution_count": 94,
   "id": "3147d3d1",
   "metadata": {},
   "outputs": [
    {
     "data": {
      "text/plain": [
       "array([-1, 10, -1, 14, -1, -1, 18,  2, 10,  4])"
      ]
     },
     "execution_count": 94,
     "metadata": {},
     "output_type": "execute_result"
    }
   ],
   "source": [
    "#if you want to change the odd value to -1\n",
    "arr1[arr1%2!=0]=-1 #it's called boolean indexing (also known as mask-based indexing).\n",
    "                   #internally here runs a where fuction which return a array of indexes where the condition is true\n",
    "                   #you can see a example below of where \n",
    "arr1"
   ]
  },
  {
   "cell_type": "code",
   "execution_count": 97,
   "id": "57e233fb",
   "metadata": {},
   "outputs": [
    {
     "data": {
      "text/plain": [
       "array([14, 19, 17,  3,  4,  4, 13,  6, 18,  1])"
      ]
     },
     "execution_count": 97,
     "metadata": {},
     "output_type": "execute_result"
    }
   ],
   "source": [
    "arr1=np.random.randint(1,20,10)\n",
    "arr1"
   ]
  },
  {
   "cell_type": "code",
   "execution_count": 98,
   "id": "95413556",
   "metadata": {},
   "outputs": [
    {
     "data": {
      "text/plain": [
       "(array([1, 2, 3, 6, 9], dtype=int64),)"
      ]
     },
     "execution_count": 98,
     "metadata": {},
     "output_type": "execute_result"
    }
   ],
   "source": [
    "np.where((arr1%2)!=0) #it returns the index of odd numbers or where the condition is true"
   ]
  },
  {
   "cell_type": "code",
   "execution_count": 100,
   "id": "8a391136",
   "metadata": {},
   "outputs": [
    {
     "name": "stdout",
     "output_type": "stream",
     "text": [
      "[19 17  3 13  1]\n"
     ]
    }
   ],
   "source": [
    "index_array=np.where((arr1%2)!=0)\n",
    "print(arr1[index_array]) #print those odd numbers"
   ]
  },
  {
   "cell_type": "code",
   "execution_count": 101,
   "id": "819b82fd",
   "metadata": {},
   "outputs": [
    {
     "data": {
      "text/plain": [
       "array([14, 19, 17,  3,  4,  4, 13,  6, 18,  1])"
      ]
     },
     "execution_count": 101,
     "metadata": {},
     "output_type": "execute_result"
    }
   ],
   "source": [
    "#full syntax of where function  \n",
    "#np.where(condition, value_if_true, value_if_false)\n",
    "arr1"
   ]
  },
  {
   "cell_type": "code",
   "execution_count": 102,
   "id": "efc04eed",
   "metadata": {},
   "outputs": [
    {
     "data": {
      "text/plain": [
       "array([ 1, -1, -1, -1,  1,  1, -1,  1,  1, -1])"
      ]
     },
     "execution_count": 102,
     "metadata": {},
     "output_type": "execute_result"
    }
   ],
   "source": [
    "np.where(arr1%2!=0,-1,1) #odd=-1 and even =1 #but it will not change the actual array"
   ]
  },
  {
   "cell_type": "code",
   "execution_count": 103,
   "id": "f215d167",
   "metadata": {},
   "outputs": [
    {
     "data": {
      "text/plain": [
       "array([14, 19, 17,  3,  4,  4, 13,  6, 18,  1])"
      ]
     },
     "execution_count": 103,
     "metadata": {},
     "output_type": "execute_result"
    }
   ],
   "source": [
    "arr1 #you can see that actual array butif you use boolean indexing it will changeg original array"
   ]
  },
  {
   "cell_type": "code",
   "execution_count": 106,
   "id": "5e877cb8",
   "metadata": {},
   "outputs": [
    {
     "data": {
      "text/plain": [
       "array([14, -1, -1, -1,  4,  4, -1,  6, 18, -1])"
      ]
     },
     "execution_count": 106,
     "metadata": {},
     "output_type": "execute_result"
    }
   ],
   "source": [
    "#if you dont want to change the even value\n",
    "np.where(arr1%2!=0,-1,arr1)"
   ]
  },
  {
   "cell_type": "code",
   "execution_count": 107,
   "id": "25cc9449",
   "metadata": {},
   "outputs": [
    {
     "data": {
      "text/plain": [
       "array([14, 19, 17,  3,  4,  4, 13,  6, 18,  1])"
      ]
     },
     "execution_count": 107,
     "metadata": {},
     "output_type": "execute_result"
    }
   ],
   "source": [
    "#lets understand one more function that is percentile not percentage \n",
    "arr1"
   ]
  },
  {
   "cell_type": "code",
   "execution_count": 108,
   "id": "7074ceaa",
   "metadata": {},
   "outputs": [
    {
     "name": "stdout",
     "output_type": "stream",
     "text": [
      "9.5\n"
     ]
    }
   ],
   "source": [
    "print(np.percentile(arr1,50)) #it means that 9.5 is the value greater than the 50% elements of the arr1"
   ]
  },
  {
   "cell_type": "code",
   "execution_count": 117,
   "id": "78d8977a",
   "metadata": {},
   "outputs": [
    {
     "name": "stdout",
     "output_type": "stream",
     "text": [
      "4.0\n"
     ]
    }
   ],
   "source": [
    "#percentile we here in exams result means we got 90 percentile means we have scored higher than the 90 percente of the people who appear in the exam\n",
    "print(np.percentile(arr1,25)) #4 is greater thann 25 percent values of arr1"
   ]
  },
  {
   "cell_type": "code",
   "execution_count": null,
   "id": "cb4e738f",
   "metadata": {},
   "outputs": [],
   "source": [
    "#if array is 2-d we can also find it for row and column seprately using axis=1(row) and 0(column)\n",
    "#np.percentile(arr2,25,axis=1)"
   ]
  },
  {
   "cell_type": "code",
   "execution_count": 125,
   "id": "77674d9a",
   "metadata": {},
   "outputs": [
    {
     "name": "stdout",
     "output_type": "stream",
     "text": [
      " before sorting [9 7 7 8 4 8 7 5 4 4]\n",
      "[4 4 4 5 7 7 7 8 8 9]\n",
      "after sorting: [9 7 7 8 4 8 7 5 4 4]\n"
     ]
    }
   ],
   "source": [
    "#how to sort array\n",
    "arr2=np.random.randint(1,10,10)\n",
    "print(\" before sorting\",arr2)\n",
    "a=np.sort(arr2)#it will not make changes in arr2\n",
    "print(a)\n",
    "print(\"after sorting:\",arr2)"
   ]
  },
  {
   "cell_type": "code",
   "execution_count": 126,
   "id": "b5fd93dd",
   "metadata": {},
   "outputs": [
    {
     "name": "stdout",
     "output_type": "stream",
     "text": [
      "before [9 7 7 8 4 8 7 5 4 4]\n",
      "after [4 4 4 5 7 7 7 8 8 9]\n"
     ]
    }
   ],
   "source": [
    "print(\"before\",arr2)\n",
    "arr2.sort()#but this will change the arr2\n",
    "print(\"after\",arr2)\n"
   ]
  },
  {
   "cell_type": "code",
   "execution_count": null,
   "id": "e8b60553",
   "metadata": {},
   "outputs": [],
   "source": []
  }
 ],
 "metadata": {
  "kernelspec": {
   "display_name": "Python 3 (ipykernel)",
   "language": "python",
   "name": "python3"
  },
  "language_info": {
   "codemirror_mode": {
    "name": "ipython",
    "version": 3
   },
   "file_extension": ".py",
   "mimetype": "text/x-python",
   "name": "python",
   "nbconvert_exporter": "python",
   "pygments_lexer": "ipython3",
   "version": "3.11.7"
  }
 },
 "nbformat": 4,
 "nbformat_minor": 5
}

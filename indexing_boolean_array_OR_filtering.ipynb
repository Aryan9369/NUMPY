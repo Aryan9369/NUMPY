{
 "cells": [
  {
   "cell_type": "code",
   "execution_count": 1,
   "id": "300a84c2",
   "metadata": {},
   "outputs": [],
   "source": [
    "import numpy as np"
   ]
  },
  {
   "cell_type": "code",
   "execution_count": 3,
   "id": "90e2748a",
   "metadata": {},
   "outputs": [
    {
     "name": "stdout",
     "output_type": "stream",
     "text": [
      "[[37 97 53 32 23]\n",
      " [45 93 11 31 77]\n",
      " [48 34  2 68 55]\n",
      " [11 44 80 44 41]]\n"
     ]
    }
   ],
   "source": [
    "#lets generate a random array using random \n",
    "arr1=np.random.randint(low=1,high=100,size=20).reshape(4,5)\n",
    "print(arr1)"
   ]
  },
  {
   "cell_type": "code",
   "execution_count": 13,
   "id": "aa18982d",
   "metadata": {},
   "outputs": [
    {
     "data": {
      "text/plain": [
       "97"
      ]
     },
     "execution_count": 13,
     "metadata": {},
     "output_type": "execute_result"
    }
   ],
   "source": [
    "arr1[0 ][1]"
   ]
  },
  {
   "cell_type": "code",
   "execution_count": 9,
   "id": "de4169e2",
   "metadata": {},
   "outputs": [
    {
     "data": {
      "text/plain": [
       "97"
      ]
     },
     "execution_count": 9,
     "metadata": {},
     "output_type": "execute_result"
    }
   ],
   "source": [
    "arr1[0,1]"
   ]
  },
  {
   "cell_type": "code",
   "execution_count": 15,
   "id": "cbc57d45",
   "metadata": {},
   "outputs": [
    {
     "data": {
      "text/plain": [
       "array([[False,  True,  True, False, False],\n",
       "       [False,  True, False, False,  True],\n",
       "       [False, False, False,  True,  True],\n",
       "       [False, False,  True, False, False]])"
      ]
     },
     "execution_count": 15,
     "metadata": {},
     "output_type": "execute_result"
    }
   ],
   "source": [
    "arr1>50 #it will return an boolean array mean every element of this array is boolean"
   ]
  },
  {
   "cell_type": "code",
   "execution_count": 16,
   "id": "c4395f1c",
   "metadata": {},
   "outputs": [
    {
     "data": {
      "text/plain": [
       "array([97, 53, 93, 77, 68, 55, 80])"
      ]
     },
     "execution_count": 16,
     "metadata": {},
     "output_type": "execute_result"
    }
   ],
   "source": [
    "#but if we want array of thise element which is greater thann 50\n",
    "#then we use indexing using boolean arrays /filtering\n",
    "\n",
    "arr1[arr1>50]   #its very scalable\n"
   ]
  },
  {
   "cell_type": "code",
   "execution_count": 20,
   "id": "5e1dcd99",
   "metadata": {},
   "outputs": [
    {
     "data": {
      "text/plain": [
       "array([97, 53, 93, 77, 55])"
      ]
     },
     "execution_count": 20,
     "metadata": {},
     "output_type": "execute_result"
    }
   ],
   "source": [
    "#we can give condition more than one \n",
    "arr1[(arr1>50) & (arr1%2!=0)]  #we can use here'and' because both condition give boolean value so that's why bitwise &(and)"
   ]
  },
  {
   "cell_type": "code",
   "execution_count": 21,
   "id": "dc9f4d32",
   "metadata": {},
   "outputs": [],
   "source": [
    "#if we want to change these into zero(0)\n",
    "#we can\n",
    "arr1[(arr1>50) & (arr1%2!=0)] =0"
   ]
  },
  {
   "cell_type": "code",
   "execution_count": 22,
   "id": "a1ee3ca2",
   "metadata": {},
   "outputs": [
    {
     "name": "stdout",
     "output_type": "stream",
     "text": [
      "[[37  0  0 32 23]\n",
      " [45  0 11 31  0]\n",
      " [48 34  2 68  0]\n",
      " [11 44 80 44 41]]\n"
     ]
    }
   ],
   "source": [
    "print(arr1) #you can see here the zeros in array"
   ]
  },
  {
   "cell_type": "code",
   "execution_count": null,
   "id": "4387ae50",
   "metadata": {},
   "outputs": [],
   "source": []
  }
 ],
 "metadata": {
  "kernelspec": {
   "display_name": "Python 3 (ipykernel)",
   "language": "python",
   "name": "python3"
  },
  "language_info": {
   "codemirror_mode": {
    "name": "ipython",
    "version": 3
   },
   "file_extension": ".py",
   "mimetype": "text/x-python",
   "name": "python",
   "nbconvert_exporter": "python",
   "pygments_lexer": "ipython3",
   "version": "3.11.7"
  }
 },
 "nbformat": 4,
 "nbformat_minor": 5
}
